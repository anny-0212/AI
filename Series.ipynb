{
  "nbformat": 4,
  "nbformat_minor": 0,
  "metadata": {
    "anaconda-cloud": {},
    "kernelspec": {
      "display_name": "Python 3",
      "language": "python",
      "name": "python3"
    },
    "language_info": {
      "codemirror_mode": {
        "name": "ipython",
        "version": 3
      },
      "file_extension": ".py",
      "mimetype": "text/x-python",
      "name": "python",
      "nbconvert_exporter": "python",
      "pygments_lexer": "ipython3",
      "version": "3.6.1"
    },
    "colab": {
      "name": "Series.ipynb",
      "provenance": [],
      "include_colab_link": true
    }
  },
  "cells": [
    {
      "cell_type": "markdown",
      "metadata": {
        "id": "view-in-github",
        "colab_type": "text"
      },
      "source": [
        "<a href=\"https://colab.research.google.com/github/anny-0212/AI/blob/master/Series.ipynb\" target=\"_parent\"><img src=\"https://colab.research.google.com/assets/colab-badge.svg\" alt=\"Open In Colab\"/></a>"
      ]
    },
    {
      "cell_type": "markdown",
      "metadata": {
        "id": "tD_y7kSTiWXJ",
        "colab_type": "text"
      },
      "source": [
        "# Configuring pandas"
      ]
    },
    {
      "cell_type": "code",
      "metadata": {
        "id": "cn1nbU83iWXL",
        "colab_type": "code",
        "colab": {}
      },
      "source": [
        "# import numpy and pandas\n",
        "import numpy as np\n",
        "import pandas as pd\n",
        "\n",
        "# used for dates\n",
        "import datetime\n",
        "from datetime import datetime, date\n",
        "\n",
        "# Set some pandas options controlling output format\n",
        "pd.set_option('display.notebook_repr_html', False)\n",
        "pd.set_option('display.max_columns', 8)\n",
        "pd.set_option('display.max_rows', 10)\n",
        "pd.set_option('display.width', 80)\n",
        "\n",
        "# bring in matplotlib for graphics\n",
        "import matplotlib.pyplot as plt\n",
        "%matplotlib inline"
      ],
      "execution_count": 0,
      "outputs": []
    },
    {
      "cell_type": "markdown",
      "metadata": {
        "id": "pSWjfXwviWXP",
        "colab_type": "text"
      },
      "source": [
        "# Creating a Series using Python lists and dictionaries"
      ]
    },
    {
      "cell_type": "code",
      "metadata": {
        "id": "cUxadfB2iWXQ",
        "colab_type": "code",
        "outputId": "d8d8b0d9-6f9a-4e17-eacd-5a19be246bda",
        "colab": {}
      },
      "source": [
        "# create a series of multiple values from a list\n",
        "s = pd.Series([10, 11, 12, 13, 14])\n",
        "s"
      ],
      "execution_count": 0,
      "outputs": [
        {
          "output_type": "execute_result",
          "data": {
            "text/plain": [
              "0    10\n",
              "1    11\n",
              "2    12\n",
              "3    13\n",
              "4    14\n",
              "dtype: int64"
            ]
          },
          "metadata": {
            "tags": []
          },
          "execution_count": 2
        }
      ]
    },
    {
      "cell_type": "code",
      "metadata": {
        "id": "UcnedQhtiWXT",
        "colab_type": "code",
        "outputId": "8f3c6f1d-87b7-4cf7-ba42-b5b3bedc7b57",
        "colab": {}
      },
      "source": [
        "# value stored at index label 3\n",
        "s[3]"
      ],
      "execution_count": 0,
      "outputs": [
        {
          "output_type": "execute_result",
          "data": {
            "text/plain": [
              "13"
            ]
          },
          "metadata": {
            "tags": []
          },
          "execution_count": 3
        }
      ]
    },
    {
      "cell_type": "code",
      "metadata": {
        "id": "IKgB0J7tiWXX",
        "colab_type": "code",
        "outputId": "44b75327-352a-487c-ae7e-0a17ec628748",
        "colab": {}
      },
      "source": [
        "# create a Series of alphas\n",
        "pd.Series(['Mike', 'Marcia', 'Mikael', 'Bleu'])"
      ],
      "execution_count": 0,
      "outputs": [
        {
          "output_type": "execute_result",
          "data": {
            "text/plain": [
              "0      Mike\n",
              "1    Marcia\n",
              "2    Mikael\n",
              "3      Bleu\n",
              "dtype: object"
            ]
          },
          "metadata": {
            "tags": []
          },
          "execution_count": 4
        }
      ]
    },
    {
      "cell_type": "code",
      "metadata": {
        "id": "B0ZyYggyiWXa",
        "colab_type": "code",
        "outputId": "79231901-b48d-47ac-9d34-8f70186b7430",
        "colab": {}
      },
      "source": [
        "# a sequence of 5 values, all 2\n",
        "pd.Series([2]*5)"
      ],
      "execution_count": 0,
      "outputs": [
        {
          "output_type": "execute_result",
          "data": {
            "text/plain": [
              "0    2\n",
              "1    2\n",
              "2    2\n",
              "3    2\n",
              "4    2\n",
              "dtype: int64"
            ]
          },
          "metadata": {
            "tags": []
          },
          "execution_count": 5
        }
      ]
    },
    {
      "cell_type": "code",
      "metadata": {
        "id": "Wi2WrJxwiWXe",
        "colab_type": "code",
        "outputId": "a2c0736e-9724-44e1-f5c7-ef0a7904fe62",
        "colab": {}
      },
      "source": [
        "# use each character as a value\n",
        "pd.Series(list('abcde'))"
      ],
      "execution_count": 0,
      "outputs": [
        {
          "output_type": "execute_result",
          "data": {
            "text/plain": [
              "0    a\n",
              "1    b\n",
              "2    c\n",
              "3    d\n",
              "4    e\n",
              "dtype: object"
            ]
          },
          "metadata": {
            "tags": []
          },
          "execution_count": 6
        }
      ]
    },
    {
      "cell_type": "code",
      "metadata": {
        "id": "oyI008yQiWXj",
        "colab_type": "code",
        "outputId": "6cf267d4-6172-414c-e3e7-d4c8038af9d2",
        "colab": {}
      },
      "source": [
        "# create Series from dict\n",
        "pd.Series({'Mike': 'Dad', \n",
        "           'Marcia': 'Mom', \n",
        "           'Mikael': 'Son', \n",
        "           'Bleu': 'Best doggie ever' })"
      ],
      "execution_count": 0,
      "outputs": [
        {
          "output_type": "execute_result",
          "data": {
            "text/plain": [
              "Bleu      Best doggie ever\n",
              "Marcia                 Mom\n",
              "Mikael                 Son\n",
              "Mike                   Dad\n",
              "dtype: object"
            ]
          },
          "metadata": {
            "tags": []
          },
          "execution_count": 7
        }
      ]
    },
    {
      "cell_type": "markdown",
      "metadata": {
        "id": "NMbfLwqUiWXl",
        "colab_type": "text"
      },
      "source": [
        "# Creation using NumPy functions"
      ]
    },
    {
      "cell_type": "code",
      "metadata": {
        "id": "EYB6IFD5iWXm",
        "colab_type": "code",
        "outputId": "7b5b7d8c-2333-48d1-9b0f-589788eb0783",
        "colab": {}
      },
      "source": [
        "# 4 through 8\n",
        "pd.Series(np.arange(4, 9))"
      ],
      "execution_count": 0,
      "outputs": [
        {
          "output_type": "execute_result",
          "data": {
            "text/plain": [
              "0    4\n",
              "1    5\n",
              "2    6\n",
              "3    7\n",
              "4    8\n",
              "dtype: int64"
            ]
          },
          "metadata": {
            "tags": []
          },
          "execution_count": 8
        }
      ]
    },
    {
      "cell_type": "code",
      "metadata": {
        "id": "-yQeAeOHiWXo",
        "colab_type": "code",
        "outputId": "b57decf4-58b5-40f5-b69e-61005bcfbd04",
        "colab": {}
      },
      "source": [
        "# 0 through 9\n",
        "pd.Series(np.linspace(0, 9, 5))"
      ],
      "execution_count": 0,
      "outputs": [
        {
          "output_type": "execute_result",
          "data": {
            "text/plain": [
              "0    0.00\n",
              "1    2.25\n",
              "2    4.50\n",
              "3    6.75\n",
              "4    9.00\n",
              "dtype: float64"
            ]
          },
          "metadata": {
            "tags": []
          },
          "execution_count": 9
        }
      ]
    },
    {
      "cell_type": "code",
      "metadata": {
        "id": "ubEheFXZiWXw",
        "colab_type": "code",
        "outputId": "61a80214-56ec-4937-d960-373ab14dd50f",
        "colab": {}
      },
      "source": [
        "# random numbers\n",
        "np.random.seed(12345) # always generate the same values\n",
        "# 5 normally random numbers\n",
        "pd.Series(np.random.normal(size=5))"
      ],
      "execution_count": 0,
      "outputs": [
        {
          "output_type": "execute_result",
          "data": {
            "text/plain": [
              "0   -0.204708\n",
              "1    0.478943\n",
              "2   -0.519439\n",
              "3   -0.555730\n",
              "4    1.965781\n",
              "dtype: float64"
            ]
          },
          "metadata": {
            "tags": []
          },
          "execution_count": 10
        }
      ]
    },
    {
      "cell_type": "markdown",
      "metadata": {
        "id": "E2LwnAAfiWXz",
        "colab_type": "text"
      },
      "source": [
        "# Creation using a scalar value"
      ]
    },
    {
      "cell_type": "code",
      "metadata": {
        "id": "zZBKkT7siWXz",
        "colab_type": "code",
        "outputId": "3baf59ef-dae1-4f3c-d124-65bcb836194b",
        "colab": {}
      },
      "source": [
        "# create a one item Series\n",
        "s = pd.Series(2)\n",
        "s"
      ],
      "execution_count": 0,
      "outputs": [
        {
          "output_type": "execute_result",
          "data": {
            "text/plain": [
              "0    2\n",
              "dtype: int64"
            ]
          },
          "metadata": {
            "tags": []
          },
          "execution_count": 11
        }
      ]
    },
    {
      "cell_type": "code",
      "metadata": {
        "id": "fJkyDV02iWX2",
        "colab_type": "code",
        "outputId": "e749c20d-f8ee-49ed-9b07-0a165fec2317",
        "colab": {}
      },
      "source": [
        "# create the Series\n",
        "s = pd.Series(np.arange(0, 5))\n",
        "# multiple all values by 2\n",
        "s * 2"
      ],
      "execution_count": 0,
      "outputs": [
        {
          "output_type": "execute_result",
          "data": {
            "text/plain": [
              "0    0\n",
              "1    2\n",
              "2    4\n",
              "3    6\n",
              "4    8\n",
              "dtype: int64"
            ]
          },
          "metadata": {
            "tags": []
          },
          "execution_count": 12
        }
      ]
    },
    {
      "cell_type": "markdown",
      "metadata": {
        "id": "h37h_PL0iWX4",
        "colab_type": "text"
      },
      "source": [
        "# The .index and .values properties"
      ]
    },
    {
      "cell_type": "code",
      "metadata": {
        "id": "MuHf8aPziWX5",
        "colab_type": "code",
        "outputId": "3fe708fa-372d-4750-f851-80e96bd09984",
        "colab": {}
      },
      "source": [
        "# get the values in the Series\n",
        "s = pd.Series([1, 2, 3])\n",
        "s.values"
      ],
      "execution_count": 0,
      "outputs": [
        {
          "output_type": "execute_result",
          "data": {
            "text/plain": [
              "array([1, 2, 3])"
            ]
          },
          "metadata": {
            "tags": []
          },
          "execution_count": 13
        }
      ]
    },
    {
      "cell_type": "code",
      "metadata": {
        "id": "RPMplpgGiWX7",
        "colab_type": "code",
        "outputId": "5c6dad4c-975b-40a9-a726-c4526880749b",
        "colab": {}
      },
      "source": [
        "# show that this is a numpy array\n",
        "type(s.values)"
      ],
      "execution_count": 0,
      "outputs": [
        {
          "output_type": "execute_result",
          "data": {
            "text/plain": [
              "numpy.ndarray"
            ]
          },
          "metadata": {
            "tags": []
          },
          "execution_count": 14
        }
      ]
    },
    {
      "cell_type": "code",
      "metadata": {
        "id": "Dv4oGS69iWX-",
        "colab_type": "code",
        "outputId": "e569fac1-b1b3-47eb-a91b-63c5c1a47a40",
        "colab": {}
      },
      "source": [
        "# get the index of the Series\n",
        "s.index"
      ],
      "execution_count": 0,
      "outputs": [
        {
          "output_type": "execute_result",
          "data": {
            "text/plain": [
              "RangeIndex(start=0, stop=3, step=1)"
            ]
          },
          "metadata": {
            "tags": []
          },
          "execution_count": 15
        }
      ]
    },
    {
      "cell_type": "markdown",
      "metadata": {
        "id": "jH5XaJLYiWYB",
        "colab_type": "text"
      },
      "source": [
        "# The size and shape of a Series"
      ]
    },
    {
      "cell_type": "code",
      "metadata": {
        "id": "wvVEpdFziWYC",
        "colab_type": "code",
        "outputId": "23d509cc-c369-4662-9895-9b82110bdbe9",
        "colab": {}
      },
      "source": [
        "# example series\n",
        "s = pd.Series([0, 1, 2, 3])\n",
        "len(s)"
      ],
      "execution_count": 0,
      "outputs": [
        {
          "output_type": "execute_result",
          "data": {
            "text/plain": [
              "4"
            ]
          },
          "metadata": {
            "tags": []
          },
          "execution_count": 16
        }
      ]
    },
    {
      "cell_type": "code",
      "metadata": {
        "id": "MMU71Y-EiWYE",
        "colab_type": "code",
        "outputId": "4a7dc848-aec0-4891-f454-9dd9d10bd412",
        "colab": {}
      },
      "source": [
        "# .size is also the # of items in the Series\n",
        "s.size"
      ],
      "execution_count": 0,
      "outputs": [
        {
          "output_type": "execute_result",
          "data": {
            "text/plain": [
              "4"
            ]
          },
          "metadata": {
            "tags": []
          },
          "execution_count": 17
        }
      ]
    },
    {
      "cell_type": "code",
      "metadata": {
        "id": "kxfjIXk9iWYG",
        "colab_type": "code",
        "outputId": "bd317ff4-14f8-465b-f691-aa688989bd93",
        "colab": {}
      },
      "source": [
        "# .shape is a tuple with one value\n",
        "s.shape"
      ],
      "execution_count": 0,
      "outputs": [
        {
          "output_type": "execute_result",
          "data": {
            "text/plain": [
              "(4,)"
            ]
          },
          "metadata": {
            "tags": []
          },
          "execution_count": 18
        }
      ]
    },
    {
      "cell_type": "markdown",
      "metadata": {
        "id": "VpeYDiiniWYJ",
        "colab_type": "text"
      },
      "source": [
        "# Specifying an index at creation"
      ]
    },
    {
      "cell_type": "code",
      "metadata": {
        "id": "0847nCh4iWYK",
        "colab_type": "code",
        "outputId": "1ca3fa33-2064-4e10-b1ea-7c6c6531d720",
        "colab": {}
      },
      "source": [
        "# explicitly create an index\n",
        "labels = ['Mike', 'Marcia', 'Mikael', 'Bleu']\n",
        "role = ['Dad', 'Mom', 'Son', 'Dog']\n",
        "s = pd.Series(labels, index=role)\n",
        "s"
      ],
      "execution_count": 0,
      "outputs": [
        {
          "output_type": "execute_result",
          "data": {
            "text/plain": [
              "Dad      Mike\n",
              "Mom    Marcia\n",
              "Son    Mikael\n",
              "Dog      Bleu\n",
              "dtype: object"
            ]
          },
          "metadata": {
            "tags": []
          },
          "execution_count": 19
        }
      ]
    },
    {
      "cell_type": "code",
      "metadata": {
        "id": "uSHlsnyLiWYO",
        "colab_type": "code",
        "outputId": "be5f8e90-05be-41b7-ced0-b7194e55b887",
        "colab": {}
      },
      "source": [
        "# examine the index\n",
        "s.index"
      ],
      "execution_count": 0,
      "outputs": [
        {
          "output_type": "execute_result",
          "data": {
            "text/plain": [
              "Index(['Dad', 'Mom', 'Son', 'Dog'], dtype='object')"
            ]
          },
          "metadata": {
            "tags": []
          },
          "execution_count": 20
        }
      ]
    },
    {
      "cell_type": "code",
      "metadata": {
        "id": "Hdd_k5jdiWYQ",
        "colab_type": "code",
        "outputId": "245a3997-edca-4657-ac6c-bb77173f5482",
        "colab": {}
      },
      "source": [
        "# who is the Dad?\n",
        "s['Dad']"
      ],
      "execution_count": 0,
      "outputs": [
        {
          "output_type": "execute_result",
          "data": {
            "text/plain": [
              "'Mike'"
            ]
          },
          "metadata": {
            "tags": []
          },
          "execution_count": 21
        }
      ]
    },
    {
      "cell_type": "markdown",
      "metadata": {
        "id": "UlqFdkw-iWYT",
        "colab_type": "text"
      },
      "source": [
        "# Heads, tails and takes"
      ]
    },
    {
      "cell_type": "code",
      "metadata": {
        "id": "45v4GrYIiWYU",
        "colab_type": "code",
        "colab": {}
      },
      "source": [
        "# a ten item Series\n",
        "s = pd.Series(np.arange(1, 10), \n",
        "              index=list('abcdefghi'))"
      ],
      "execution_count": 0,
      "outputs": []
    },
    {
      "cell_type": "code",
      "metadata": {
        "id": "AcLWIeE9iWYW",
        "colab_type": "code",
        "outputId": "8047ff85-2d0c-4e60-bd9d-95d52534b659",
        "colab": {}
      },
      "source": [
        "# show the first five\n",
        "s.head()"
      ],
      "execution_count": 0,
      "outputs": [
        {
          "output_type": "execute_result",
          "data": {
            "text/plain": [
              "a    1\n",
              "b    2\n",
              "c    3\n",
              "d    4\n",
              "e    5\n",
              "dtype: int64"
            ]
          },
          "metadata": {
            "tags": []
          },
          "execution_count": 23
        }
      ]
    },
    {
      "cell_type": "code",
      "metadata": {
        "id": "b0E7lSTOiWYZ",
        "colab_type": "code",
        "outputId": "1608b9e2-dd11-41c5-b37d-8b86287a18a9",
        "colab": {}
      },
      "source": [
        "# the first three\n",
        "s.head(n = 3) # s.head(3) is equivalent"
      ],
      "execution_count": 0,
      "outputs": [
        {
          "output_type": "execute_result",
          "data": {
            "text/plain": [
              "a    1\n",
              "b    2\n",
              "c    3\n",
              "dtype: int64"
            ]
          },
          "metadata": {
            "tags": []
          },
          "execution_count": 24
        }
      ]
    },
    {
      "cell_type": "code",
      "metadata": {
        "id": "2JfNbR-ViWYc",
        "colab_type": "code",
        "outputId": "1e6084cd-8a67-417d-d631-1d7b253b430b",
        "colab": {}
      },
      "source": [
        "# the last five\n",
        "s.tail()"
      ],
      "execution_count": 0,
      "outputs": [
        {
          "output_type": "execute_result",
          "data": {
            "text/plain": [
              "e    5\n",
              "f    6\n",
              "g    7\n",
              "h    8\n",
              "i    9\n",
              "dtype: int64"
            ]
          },
          "metadata": {
            "tags": []
          },
          "execution_count": 25
        }
      ]
    },
    {
      "cell_type": "code",
      "metadata": {
        "id": "msCFZr0diWYg",
        "colab_type": "code",
        "outputId": "8db7d1d2-146c-4e94-9865-020ea14d98a2",
        "colab": {}
      },
      "source": [
        "# the last 3\n",
        "s.tail(n = 3) # equivalent to s.tail(3)"
      ],
      "execution_count": 0,
      "outputs": [
        {
          "output_type": "execute_result",
          "data": {
            "text/plain": [
              "g    7\n",
              "h    8\n",
              "i    9\n",
              "dtype: int64"
            ]
          },
          "metadata": {
            "tags": []
          },
          "execution_count": 26
        }
      ]
    },
    {
      "cell_type": "code",
      "metadata": {
        "id": "-b3nS_pBiWYj",
        "colab_type": "code",
        "outputId": "0fff59d3-72d6-434e-ddc0-84b1d6d7e5ed",
        "colab": {}
      },
      "source": [
        "# only take specific items by position\n",
        "s.take([1, 5, 8])"
      ],
      "execution_count": 0,
      "outputs": [
        {
          "output_type": "execute_result",
          "data": {
            "text/plain": [
              "b    2\n",
              "f    6\n",
              "i    9\n",
              "dtype: int64"
            ]
          },
          "metadata": {
            "tags": []
          },
          "execution_count": 27
        }
      ]
    },
    {
      "cell_type": "markdown",
      "metadata": {
        "id": "zrbUQ1ZeiWYn",
        "colab_type": "text"
      },
      "source": [
        "# Lookup by label using the [] and .ix[] operators"
      ]
    },
    {
      "cell_type": "code",
      "metadata": {
        "id": "hyfcZ2-wiWYo",
        "colab_type": "code",
        "outputId": "fa520244-046b-4b35-fa8f-bf1a9088be98",
        "colab": {}
      },
      "source": [
        "# we will use this series to examine lookups\n",
        "s1 = pd.Series(np.arange(10, 15), index=list('abcde'))\n",
        "s1"
      ],
      "execution_count": 0,
      "outputs": [
        {
          "output_type": "execute_result",
          "data": {
            "text/plain": [
              "a    10\n",
              "b    11\n",
              "c    12\n",
              "d    13\n",
              "e    14\n",
              "dtype: int64"
            ]
          },
          "metadata": {
            "tags": []
          },
          "execution_count": 28
        }
      ]
    },
    {
      "cell_type": "code",
      "metadata": {
        "id": "i582N0L-iWYq",
        "colab_type": "code",
        "outputId": "34baa302-2c17-492b-ea1e-78ebc3ef360d",
        "colab": {}
      },
      "source": [
        "# get the value with label 'a'\n",
        "s1['a']"
      ],
      "execution_count": 0,
      "outputs": [
        {
          "output_type": "execute_result",
          "data": {
            "text/plain": [
              "10"
            ]
          },
          "metadata": {
            "tags": []
          },
          "execution_count": 29
        }
      ]
    },
    {
      "cell_type": "code",
      "metadata": {
        "id": "C1KB0kZeiWYt",
        "colab_type": "code",
        "outputId": "cab534ce-d021-47fa-9df8-4656025d6b5c",
        "colab": {}
      },
      "source": [
        "# get multiple items\n",
        "s1[['d', 'b']]"
      ],
      "execution_count": 0,
      "outputs": [
        {
          "output_type": "execute_result",
          "data": {
            "text/plain": [
              "d    13\n",
              "b    11\n",
              "dtype: int64"
            ]
          },
          "metadata": {
            "tags": []
          },
          "execution_count": 30
        }
      ]
    },
    {
      "cell_type": "code",
      "metadata": {
        "id": "2RjVWM3UiWYv",
        "colab_type": "code",
        "outputId": "952b1f25-d4a6-4033-8a75-155c8afa06b8",
        "colab": {}
      },
      "source": [
        "# gets values based upon position\n",
        "s1[[3, 1]]"
      ],
      "execution_count": 0,
      "outputs": [
        {
          "output_type": "execute_result",
          "data": {
            "text/plain": [
              "d    13\n",
              "b    11\n",
              "dtype: int64"
            ]
          },
          "metadata": {
            "tags": []
          },
          "execution_count": 31
        }
      ]
    },
    {
      "cell_type": "code",
      "metadata": {
        "id": "Ffxfp0iSiWYx",
        "colab_type": "code",
        "outputId": "6588c2b1-c7de-417e-a47a-72c2324972a8",
        "colab": {}
      },
      "source": [
        "# to demo lookup by matching labels as integer values\n",
        "s2 = pd.Series([1, 2, 3, 4], index=[10, 11, 12, 13])\n",
        "s2"
      ],
      "execution_count": 0,
      "outputs": [
        {
          "output_type": "execute_result",
          "data": {
            "text/plain": [
              "10    1\n",
              "11    2\n",
              "12    3\n",
              "13    4\n",
              "dtype: int64"
            ]
          },
          "metadata": {
            "tags": []
          },
          "execution_count": 32
        }
      ]
    },
    {
      "cell_type": "code",
      "metadata": {
        "id": "rQrhAS5AiWYz",
        "colab_type": "code",
        "outputId": "5a6171c9-adf9-4b57-c1fa-64e8577f89e1",
        "colab": {}
      },
      "source": [
        "# this is by label not position\n",
        "s2[[13, 10]]"
      ],
      "execution_count": 0,
      "outputs": [
        {
          "output_type": "execute_result",
          "data": {
            "text/plain": [
              "13    4\n",
              "10    1\n",
              "dtype: int64"
            ]
          },
          "metadata": {
            "tags": []
          },
          "execution_count": 33
        }
      ]
    },
    {
      "cell_type": "markdown",
      "metadata": {
        "id": "Urvwxq_SiWY2",
        "colab_type": "text"
      },
      "source": [
        "# Explicit position lookup with .iloc[]"
      ]
    },
    {
      "cell_type": "code",
      "metadata": {
        "id": "wie11oXdiWY3",
        "colab_type": "code",
        "outputId": "06821c53-db68-4c76-e278-835d7071a678",
        "colab": {}
      },
      "source": [
        "# explicitly  by position\n",
        "s1.iloc[[0, 2]]"
      ],
      "execution_count": 0,
      "outputs": [
        {
          "output_type": "execute_result",
          "data": {
            "text/plain": [
              "a    10\n",
              "c    12\n",
              "dtype: int64"
            ]
          },
          "metadata": {
            "tags": []
          },
          "execution_count": 34
        }
      ]
    },
    {
      "cell_type": "code",
      "metadata": {
        "id": "ESZU-zJyiWY5",
        "colab_type": "code",
        "outputId": "fb562dcc-b020-4efa-c044-4cfcbf4f9412",
        "colab": {}
      },
      "source": [
        "# explicitly  by position\n",
        "s2.iloc[[3, 2]]"
      ],
      "execution_count": 0,
      "outputs": [
        {
          "output_type": "execute_result",
          "data": {
            "text/plain": [
              "13    4\n",
              "12    3\n",
              "dtype: int64"
            ]
          },
          "metadata": {
            "tags": []
          },
          "execution_count": 35
        }
      ]
    },
    {
      "cell_type": "markdown",
      "metadata": {
        "id": "0CvCv6m5iWY7",
        "colab_type": "text"
      },
      "source": [
        "# Explicit label lookup with .loc[]"
      ]
    },
    {
      "cell_type": "code",
      "metadata": {
        "id": "fkdZoSPbiWY8",
        "colab_type": "code",
        "outputId": "8b2df94b-db14-4003-8970-b56e69808a24",
        "colab": {}
      },
      "source": [
        "# explicit via labels\n",
        "s1.loc[['a', 'd']]"
      ],
      "execution_count": 0,
      "outputs": [
        {
          "output_type": "execute_result",
          "data": {
            "text/plain": [
              "a    10\n",
              "d    13\n",
              "dtype: int64"
            ]
          },
          "metadata": {
            "tags": []
          },
          "execution_count": 36
        }
      ]
    },
    {
      "cell_type": "code",
      "metadata": {
        "id": "uxkdObBOiWY_",
        "colab_type": "code",
        "outputId": "ad45fe76-4de7-4d63-af3e-a3ffadb50992",
        "colab": {}
      },
      "source": [
        "# get items at position 11 an d12\n",
        "s2.loc[[11, 12]]"
      ],
      "execution_count": 0,
      "outputs": [
        {
          "output_type": "execute_result",
          "data": {
            "text/plain": [
              "11    2\n",
              "12    3\n",
              "dtype: int64"
            ]
          },
          "metadata": {
            "tags": []
          },
          "execution_count": 37
        }
      ]
    },
    {
      "cell_type": "code",
      "metadata": {
        "id": "lVBDahh_iWZC",
        "colab_type": "code",
        "outputId": "41fe6a57-5e2c-4603-e1a6-282167187e85",
        "colab": {}
      },
      "source": [
        "# -1 and 15 will be NaN\n",
        "s1.loc[['a', 'f']]"
      ],
      "execution_count": 0,
      "outputs": [
        {
          "output_type": "execute_result",
          "data": {
            "text/plain": [
              "a    10.0\n",
              "f     NaN\n",
              "dtype: float64"
            ]
          },
          "metadata": {
            "tags": []
          },
          "execution_count": 38
        }
      ]
    },
    {
      "cell_type": "markdown",
      "metadata": {
        "id": "JhVaGbfCiWZG",
        "colab_type": "text"
      },
      "source": [
        "# Slicing a Series into subsets"
      ]
    },
    {
      "cell_type": "code",
      "metadata": {
        "id": "dWnAY_l2iWZH",
        "colab_type": "code",
        "outputId": "faaf940c-c596-47e8-d64d-94e9f02fd317",
        "colab": {}
      },
      "source": [
        "# a Series to use for slicing\n",
        "# using index labels not starting at 0 to demonstrate \n",
        "# position based slicing\n",
        "s = pd.Series(np.arange(100, 110), index=np.arange(10, 20))\n",
        "s"
      ],
      "execution_count": 0,
      "outputs": [
        {
          "output_type": "execute_result",
          "data": {
            "text/plain": [
              "10    100\n",
              "11    101\n",
              "12    102\n",
              "13    103\n",
              "14    104\n",
              "15    105\n",
              "16    106\n",
              "17    107\n",
              "18    108\n",
              "19    109\n",
              "dtype: int64"
            ]
          },
          "metadata": {
            "tags": []
          },
          "execution_count": 39
        }
      ]
    },
    {
      "cell_type": "code",
      "metadata": {
        "id": "kNVuP4pbiWZJ",
        "colab_type": "code",
        "outputId": "5ca1ec4f-424a-4c7b-f255-1167b3415b34",
        "colab": {}
      },
      "source": [
        "# slice showing items at position 1 thorugh 5\n",
        "s[1:6]"
      ],
      "execution_count": 0,
      "outputs": [
        {
          "output_type": "execute_result",
          "data": {
            "text/plain": [
              "11    101\n",
              "12    102\n",
              "13    103\n",
              "14    104\n",
              "15    105\n",
              "dtype: int64"
            ]
          },
          "metadata": {
            "tags": []
          },
          "execution_count": 40
        }
      ]
    },
    {
      "cell_type": "code",
      "metadata": {
        "id": "p9AQmN7CiWZL",
        "colab_type": "code",
        "outputId": "b01fe177-eec6-44c8-ce62-d70e3e1a1499",
        "colab": {}
      },
      "source": [
        "# lookup via list of positions\n",
        "s.iloc[[1, 2, 3, 4, 5]]"
      ],
      "execution_count": 0,
      "outputs": [
        {
          "output_type": "execute_result",
          "data": {
            "text/plain": [
              "11    101\n",
              "12    102\n",
              "13    103\n",
              "14    104\n",
              "15    105\n",
              "dtype: int64"
            ]
          },
          "metadata": {
            "tags": []
          },
          "execution_count": 41
        }
      ]
    },
    {
      "cell_type": "code",
      "metadata": {
        "id": "Q5QA8sjuiWZO",
        "colab_type": "code",
        "outputId": "b14e432e-f7ca-45dd-f438-5f66deb9c834",
        "colab": {}
      },
      "source": [
        "# items at position 1, 3, 5\n",
        "s[1:6:2]"
      ],
      "execution_count": 0,
      "outputs": [
        {
          "output_type": "execute_result",
          "data": {
            "text/plain": [
              "11    101\n",
              "13    103\n",
              "15    105\n",
              "dtype: int64"
            ]
          },
          "metadata": {
            "tags": []
          },
          "execution_count": 42
        }
      ]
    },
    {
      "cell_type": "code",
      "metadata": {
        "id": "m1_fBt0LiWZV",
        "colab_type": "code",
        "outputId": "dec0ae9f-b113-41fa-bb62-f1b9bcb887de",
        "colab": {}
      },
      "source": [
        "# first five by slicing, same as .head(5)\n",
        "s[:5]"
      ],
      "execution_count": 0,
      "outputs": [
        {
          "output_type": "execute_result",
          "data": {
            "text/plain": [
              "10    100\n",
              "11    101\n",
              "12    102\n",
              "13    103\n",
              "14    104\n",
              "dtype: int64"
            ]
          },
          "metadata": {
            "tags": []
          },
          "execution_count": 43
        }
      ]
    },
    {
      "cell_type": "code",
      "metadata": {
        "id": "oe6JqvQJiWZY",
        "colab_type": "code",
        "outputId": "dddc141b-da51-4ffe-de00-04c6abb2695d",
        "colab": {}
      },
      "source": [
        "# fourth position to the end\n",
        "s[4:]"
      ],
      "execution_count": 0,
      "outputs": [
        {
          "output_type": "execute_result",
          "data": {
            "text/plain": [
              "14    104\n",
              "15    105\n",
              "16    106\n",
              "17    107\n",
              "18    108\n",
              "19    109\n",
              "dtype: int64"
            ]
          },
          "metadata": {
            "tags": []
          },
          "execution_count": 44
        }
      ]
    },
    {
      "cell_type": "code",
      "metadata": {
        "id": "OlhM1AYaiWZa",
        "colab_type": "code",
        "outputId": "dbb4fc9b-f6f4-4ca5-c8ae-016f1d46c45c",
        "colab": {}
      },
      "source": [
        "# every other item in the first five positions\n",
        "s[:5:2]"
      ],
      "execution_count": 0,
      "outputs": [
        {
          "output_type": "execute_result",
          "data": {
            "text/plain": [
              "10    100\n",
              "12    102\n",
              "14    104\n",
              "dtype: int64"
            ]
          },
          "metadata": {
            "tags": []
          },
          "execution_count": 45
        }
      ]
    },
    {
      "cell_type": "code",
      "metadata": {
        "id": "v_LcEJAciWZc",
        "colab_type": "code",
        "outputId": "19bb43f8-7b93-4e3d-88ed-bc3216f1a0b8",
        "colab": {}
      },
      "source": [
        "# every other item starting at the fourth position\n",
        "s[4::2]"
      ],
      "execution_count": 0,
      "outputs": [
        {
          "output_type": "execute_result",
          "data": {
            "text/plain": [
              "14    104\n",
              "16    106\n",
              "18    108\n",
              "dtype: int64"
            ]
          },
          "metadata": {
            "tags": []
          },
          "execution_count": 46
        }
      ]
    },
    {
      "cell_type": "code",
      "metadata": {
        "id": "JJxVv1haiWZe",
        "colab_type": "code",
        "outputId": "12a8f660-bfa3-43a5-bdf8-d574ea95ac69",
        "colab": {}
      },
      "source": [
        "# reverse the Series\n",
        "s[::-1]"
      ],
      "execution_count": 0,
      "outputs": [
        {
          "output_type": "execute_result",
          "data": {
            "text/plain": [
              "19    109\n",
              "18    108\n",
              "17    107\n",
              "16    106\n",
              "15    105\n",
              "14    104\n",
              "13    103\n",
              "12    102\n",
              "11    101\n",
              "10    100\n",
              "dtype: int64"
            ]
          },
          "metadata": {
            "tags": []
          },
          "execution_count": 47
        }
      ]
    },
    {
      "cell_type": "code",
      "metadata": {
        "id": "0jHdlN_RiWZh",
        "colab_type": "code",
        "outputId": "e596e60f-b56a-4a62-d710-c3715f8ab928",
        "colab": {}
      },
      "source": [
        "# every other starting at position 4, in reverse\n",
        "s[4::-2]"
      ],
      "execution_count": 0,
      "outputs": [
        {
          "output_type": "execute_result",
          "data": {
            "text/plain": [
              "14    104\n",
              "12    102\n",
              "10    100\n",
              "dtype: int64"
            ]
          },
          "metadata": {
            "tags": []
          },
          "execution_count": 48
        }
      ]
    },
    {
      "cell_type": "code",
      "metadata": {
        "id": "oSlhX3VGiWZn",
        "colab_type": "code",
        "outputId": "a3393217-a7a8-491f-92fb-c661b57029e8",
        "colab": {}
      },
      "source": [
        "# -4:, which means the last 4 rows\n",
        "s[-4:]"
      ],
      "execution_count": 0,
      "outputs": [
        {
          "output_type": "execute_result",
          "data": {
            "text/plain": [
              "16    106\n",
              "17    107\n",
              "18    108\n",
              "19    109\n",
              "dtype: int64"
            ]
          },
          "metadata": {
            "tags": []
          },
          "execution_count": 49
        }
      ]
    },
    {
      "cell_type": "code",
      "metadata": {
        "id": "kxMIaF3ciWZp",
        "colab_type": "code",
        "outputId": "d3dce726-34f2-4fe1-9a41-6a68791ba854",
        "colab": {}
      },
      "source": [
        "# :-4, all but the last 4\n",
        "s[:-4]"
      ],
      "execution_count": 0,
      "outputs": [
        {
          "output_type": "execute_result",
          "data": {
            "text/plain": [
              "10    100\n",
              "11    101\n",
              "12    102\n",
              "13    103\n",
              "14    104\n",
              "15    105\n",
              "dtype: int64"
            ]
          },
          "metadata": {
            "tags": []
          },
          "execution_count": 50
        }
      ]
    },
    {
      "cell_type": "code",
      "metadata": {
        "id": "G-wOp15kiWZr",
        "colab_type": "code",
        "outputId": "2f9277db-b8ea-4c28-f0bd-ac44655522cf",
        "colab": {}
      },
      "source": [
        "# equivalent to s.tail(4).head(3)\n",
        "s[-4:-1]"
      ],
      "execution_count": 0,
      "outputs": [
        {
          "output_type": "execute_result",
          "data": {
            "text/plain": [
              "16    106\n",
              "17    107\n",
              "18    108\n",
              "dtype: int64"
            ]
          },
          "metadata": {
            "tags": []
          },
          "execution_count": 51
        }
      ]
    },
    {
      "cell_type": "code",
      "metadata": {
        "id": "EZM4IFWaiWZs",
        "colab_type": "code",
        "outputId": "a6c61000-7cc9-466d-a9eb-3280c8c89351",
        "colab": {}
      },
      "source": [
        "# used to demonstrate the next two slices\n",
        "s = pd.Series(np.arange(0, 5), \n",
        "              index=['a', 'b', 'c', 'd', 'e'])\n",
        "s"
      ],
      "execution_count": 0,
      "outputs": [
        {
          "output_type": "execute_result",
          "data": {
            "text/plain": [
              "a    0\n",
              "b    1\n",
              "c    2\n",
              "d    3\n",
              "e    4\n",
              "dtype: int64"
            ]
          },
          "metadata": {
            "tags": []
          },
          "execution_count": 52
        }
      ]
    },
    {
      "cell_type": "code",
      "metadata": {
        "id": "Sigqd4I-iWZu",
        "colab_type": "code",
        "outputId": "e05f00b4-edd9-4ae2-8a04-b971b6568c42",
        "colab": {}
      },
      "source": [
        "# slices by position as the index is characters\n",
        "s[1:3]"
      ],
      "execution_count": 0,
      "outputs": [
        {
          "output_type": "execute_result",
          "data": {
            "text/plain": [
              "b    1\n",
              "c    2\n",
              "dtype: int64"
            ]
          },
          "metadata": {
            "tags": []
          },
          "execution_count": 53
        }
      ]
    },
    {
      "cell_type": "code",
      "metadata": {
        "id": "HHtCf96jiWZw",
        "colab_type": "code",
        "outputId": "9c7730cc-8bb2-42f2-9f63-571c421d10e5",
        "colab": {}
      },
      "source": [
        "# this slices by the strings in the index\n",
        "s['b':'d']"
      ],
      "execution_count": 0,
      "outputs": [
        {
          "output_type": "execute_result",
          "data": {
            "text/plain": [
              "b    1\n",
              "c    2\n",
              "d    3\n",
              "dtype: int64"
            ]
          },
          "metadata": {
            "tags": []
          },
          "execution_count": 54
        }
      ]
    },
    {
      "cell_type": "markdown",
      "metadata": {
        "id": "dNXRyIXuiWZy",
        "colab_type": "text"
      },
      "source": [
        "# Alignment via index labels"
      ]
    },
    {
      "cell_type": "code",
      "metadata": {
        "id": "9zeX6LqsiWZz",
        "colab_type": "code",
        "outputId": "2b777f53-ef38-4f32-9861-0bcfd0e43138",
        "colab": {}
      },
      "source": [
        "# First series for alignment\n",
        "s1 = pd.Series([1, 2], index=['a', 'b'])\n",
        "s1"
      ],
      "execution_count": 0,
      "outputs": [
        {
          "output_type": "execute_result",
          "data": {
            "text/plain": [
              "a    1\n",
              "b    2\n",
              "dtype: int64"
            ]
          },
          "metadata": {
            "tags": []
          },
          "execution_count": 55
        }
      ]
    },
    {
      "cell_type": "code",
      "metadata": {
        "id": "D_pHmSMXiWZ0",
        "colab_type": "code",
        "outputId": "646f78ea-dfaa-4237-89c4-c9d8457ced26",
        "colab": {}
      },
      "source": [
        "# Second series for alignment\n",
        "s2 = pd.Series([4, 3], index=['b', 'a'])\n",
        "s2"
      ],
      "execution_count": 0,
      "outputs": [
        {
          "output_type": "execute_result",
          "data": {
            "text/plain": [
              "b    4\n",
              "a    3\n",
              "dtype: int64"
            ]
          },
          "metadata": {
            "tags": []
          },
          "execution_count": 56
        }
      ]
    },
    {
      "cell_type": "code",
      "metadata": {
        "id": "LYI7y6pqiWZ4",
        "colab_type": "code",
        "outputId": "44292f97-0064-4294-dfda-d5f1571de783",
        "colab": {}
      },
      "source": [
        "# add them\n",
        "s1 + s2"
      ],
      "execution_count": 0,
      "outputs": [
        {
          "output_type": "execute_result",
          "data": {
            "text/plain": [
              "a    4\n",
              "b    6\n",
              "dtype: int64"
            ]
          },
          "metadata": {
            "tags": []
          },
          "execution_count": 57
        }
      ]
    },
    {
      "cell_type": "code",
      "metadata": {
        "id": "EdwYj5LSiWZ6",
        "colab_type": "code",
        "outputId": "0a46f716-a42d-4dec-cd59-edc0a9107acf",
        "colab": {}
      },
      "source": [
        "# multiply all values in s3 by 2\n",
        "s1 * 2"
      ],
      "execution_count": 0,
      "outputs": [
        {
          "output_type": "execute_result",
          "data": {
            "text/plain": [
              "a    2\n",
              "b    4\n",
              "dtype: int64"
            ]
          },
          "metadata": {
            "tags": []
          },
          "execution_count": 58
        }
      ]
    },
    {
      "cell_type": "code",
      "metadata": {
        "id": "VBYXsGxriWZ8",
        "colab_type": "code",
        "outputId": "69e0eb1b-8b8f-4f57-906c-007173e94f27",
        "colab": {}
      },
      "source": [
        "# scalar series using s3's index\n",
        "t = pd.Series(2, s1.index)\n",
        "t"
      ],
      "execution_count": 0,
      "outputs": [
        {
          "output_type": "execute_result",
          "data": {
            "text/plain": [
              "a    2\n",
              "b    2\n",
              "dtype: int64"
            ]
          },
          "metadata": {
            "tags": []
          },
          "execution_count": 59
        }
      ]
    },
    {
      "cell_type": "code",
      "metadata": {
        "id": "Ng7-uINaiWZ_",
        "colab_type": "code",
        "outputId": "e0941a59-8734-4684-f21a-5a8e037f466a",
        "colab": {}
      },
      "source": [
        "# multiply s1 by t\n",
        "s1 * t"
      ],
      "execution_count": 0,
      "outputs": [
        {
          "output_type": "execute_result",
          "data": {
            "text/plain": [
              "a    2\n",
              "b    4\n",
              "dtype: int64"
            ]
          },
          "metadata": {
            "tags": []
          },
          "execution_count": 60
        }
      ]
    },
    {
      "cell_type": "code",
      "metadata": {
        "id": "3IOgRHPhiWaC",
        "colab_type": "code",
        "outputId": "0610d96f-ebc8-4e14-cbc4-6b7e63bc33a1",
        "colab": {}
      },
      "source": [
        "# we will add this to s1\n",
        "s3 = pd.Series([5, 6], index=['b', 'c'])\n",
        "s3"
      ],
      "execution_count": 0,
      "outputs": [
        {
          "output_type": "execute_result",
          "data": {
            "text/plain": [
              "b    5\n",
              "c    6\n",
              "dtype: int64"
            ]
          },
          "metadata": {
            "tags": []
          },
          "execution_count": 61
        }
      ]
    },
    {
      "cell_type": "code",
      "metadata": {
        "id": "FXUf-Y8JiWaE",
        "colab_type": "code",
        "outputId": "35adf3ac-f1b3-40de-a7b9-a4a69f298611",
        "colab": {}
      },
      "source": [
        "# s1 and s3 have different sets of index labels\n",
        "# NaN will result for a and c\n",
        "s1 + s3"
      ],
      "execution_count": 0,
      "outputs": [
        {
          "output_type": "execute_result",
          "data": {
            "text/plain": [
              "a    NaN\n",
              "b    7.0\n",
              "c    NaN\n",
              "dtype: float64"
            ]
          },
          "metadata": {
            "tags": []
          },
          "execution_count": 62
        }
      ]
    },
    {
      "cell_type": "code",
      "metadata": {
        "id": "DtR451odiWaG",
        "colab_type": "code",
        "outputId": "372aaab8-c6c2-4dfe-df3c-3d37e56cc963",
        "colab": {}
      },
      "source": [
        "# 2 'a' labels\n",
        "s1 = pd.Series([1.0, 2.0, 3.0], index=['a', 'a', 'b'])\n",
        "s1"
      ],
      "execution_count": 0,
      "outputs": [
        {
          "output_type": "execute_result",
          "data": {
            "text/plain": [
              "a    1.0\n",
              "a    2.0\n",
              "b    3.0\n",
              "dtype: float64"
            ]
          },
          "metadata": {
            "tags": []
          },
          "execution_count": 63
        }
      ]
    },
    {
      "cell_type": "code",
      "metadata": {
        "id": "1HoTGxFziWaH",
        "colab_type": "code",
        "outputId": "670fb116-8259-49aa-925d-f89c7ecd7420",
        "colab": {}
      },
      "source": [
        "# 3 a labels\n",
        "s2 = pd.Series([4.0, 5.0, 6.0, 7.0], index=['a', 'a', 'c', 'a'])\n",
        "s2"
      ],
      "execution_count": 0,
      "outputs": [
        {
          "output_type": "execute_result",
          "data": {
            "text/plain": [
              "a    4.0\n",
              "a    5.0\n",
              "c    6.0\n",
              "a    7.0\n",
              "dtype: float64"
            ]
          },
          "metadata": {
            "tags": []
          },
          "execution_count": 64
        }
      ]
    },
    {
      "cell_type": "code",
      "metadata": {
        "id": "5G3uBSpAiWaL",
        "colab_type": "code",
        "outputId": "35d4ce3b-fc39-4607-dc81-c6a4a475b4c0",
        "colab": {}
      },
      "source": [
        "# will result in 6 'a' index labels, and NaN for b and c\n",
        "s1 + s2"
      ],
      "execution_count": 0,
      "outputs": [
        {
          "output_type": "execute_result",
          "data": {
            "text/plain": [
              "a    5.0\n",
              "a    6.0\n",
              "a    8.0\n",
              "a    6.0\n",
              "a    7.0\n",
              "a    9.0\n",
              "b    NaN\n",
              "c    NaN\n",
              "dtype: float64"
            ]
          },
          "metadata": {
            "tags": []
          },
          "execution_count": 65
        }
      ]
    },
    {
      "cell_type": "markdown",
      "metadata": {
        "id": "u1MwDUU6iWaN",
        "colab_type": "text"
      },
      "source": [
        "# Boolean selection"
      ]
    },
    {
      "cell_type": "code",
      "metadata": {
        "id": "1LrEPSykiWaN",
        "colab_type": "code",
        "outputId": "70fa10de-5b20-44aa-d335-5c733ab3c456",
        "colab": {}
      },
      "source": [
        "# which rows have values that are > 5?\n",
        "s = pd.Series(np.arange(0, 5), index=list('abcde'))\n",
        "logical_results = s >= 3\n",
        "logical_results"
      ],
      "execution_count": 0,
      "outputs": [
        {
          "output_type": "execute_result",
          "data": {
            "text/plain": [
              "a    False\n",
              "b    False\n",
              "c    False\n",
              "d     True\n",
              "e     True\n",
              "dtype: bool"
            ]
          },
          "metadata": {
            "tags": []
          },
          "execution_count": 66
        }
      ]
    },
    {
      "cell_type": "code",
      "metadata": {
        "id": "d4eJ5FMZiWaP",
        "colab_type": "code",
        "outputId": "a336f2c4-f1da-4840-bc56-92785d93e2eb",
        "colab": {}
      },
      "source": [
        "# select where True\n",
        "s[logical_results]"
      ],
      "execution_count": 0,
      "outputs": [
        {
          "output_type": "execute_result",
          "data": {
            "text/plain": [
              "d    3\n",
              "e    4\n",
              "dtype: int64"
            ]
          },
          "metadata": {
            "tags": []
          },
          "execution_count": 67
        }
      ]
    },
    {
      "cell_type": "code",
      "metadata": {
        "id": "tY2iPj8XiWaQ",
        "colab_type": "code",
        "outputId": "f681edf2-85ee-4064-998b-1113035662ea",
        "colab": {}
      },
      "source": [
        "# a little shorter version\n",
        "s[s > 5]"
      ],
      "execution_count": 0,
      "outputs": [
        {
          "output_type": "execute_result",
          "data": {
            "text/plain": [
              "Series([], dtype: int64)"
            ]
          },
          "metadata": {
            "tags": []
          },
          "execution_count": 68
        }
      ]
    },
    {
      "cell_type": "code",
      "metadata": {
        "id": "zJYbTY0ciWaS",
        "colab_type": "code",
        "colab": {}
      },
      "source": [
        "# commented as it throws an exception\n",
        "# s[s >= 2 and s < 5]"
      ],
      "execution_count": 0,
      "outputs": []
    },
    {
      "cell_type": "code",
      "metadata": {
        "id": "m8Mv8DMJiWaU",
        "colab_type": "code",
        "outputId": "2af27d61-bbdf-4a39-f8d4-2580a98c869d",
        "colab": {}
      },
      "source": [
        "# correct syntax\n",
        "s[(s >=2) & (s < 5)]"
      ],
      "execution_count": 0,
      "outputs": [
        {
          "output_type": "execute_result",
          "data": {
            "text/plain": [
              "c    2\n",
              "d    3\n",
              "e    4\n",
              "dtype: int64"
            ]
          },
          "metadata": {
            "tags": []
          },
          "execution_count": 70
        }
      ]
    },
    {
      "cell_type": "code",
      "metadata": {
        "id": "9e5J0SbbiWaX",
        "colab_type": "code",
        "outputId": "00ff12f1-14bb-4eb4-807c-864e58a79637",
        "colab": {}
      },
      "source": [
        "# are all items >= 0?\n",
        "(s >= 0).all()"
      ],
      "execution_count": 0,
      "outputs": [
        {
          "output_type": "execute_result",
          "data": {
            "text/plain": [
              "True"
            ]
          },
          "metadata": {
            "tags": []
          },
          "execution_count": 71
        }
      ]
    },
    {
      "cell_type": "code",
      "metadata": {
        "id": "skCQOYFriWaZ",
        "colab_type": "code",
        "outputId": "2248a3dd-b65a-4acf-acdc-d8ae9babf459",
        "colab": {}
      },
      "source": [
        "# any items < 2?\n",
        "s[s < 2].any()"
      ],
      "execution_count": 0,
      "outputs": [
        {
          "output_type": "execute_result",
          "data": {
            "text/plain": [
              "True"
            ]
          },
          "metadata": {
            "tags": []
          },
          "execution_count": 72
        }
      ]
    },
    {
      "cell_type": "code",
      "metadata": {
        "id": "JsOP1dfHiWaa",
        "colab_type": "code",
        "outputId": "ce052157-7e17-4381-fe53-ea3e3cfa9ade",
        "colab": {}
      },
      "source": [
        "# how many values < 2?\n",
        "(s < 2).sum()"
      ],
      "execution_count": 0,
      "outputs": [
        {
          "output_type": "execute_result",
          "data": {
            "text/plain": [
              "2"
            ]
          },
          "metadata": {
            "tags": []
          },
          "execution_count": 73
        }
      ]
    },
    {
      "cell_type": "markdown",
      "metadata": {
        "id": "B3GT9QJciWac",
        "colab_type": "text"
      },
      "source": [
        "# Reindexing a Series"
      ]
    },
    {
      "cell_type": "code",
      "metadata": {
        "id": "7d8eie5yiWad",
        "colab_type": "code",
        "outputId": "71808e50-ff42-4b2c-eceb-f9a75cda0b0f",
        "colab": {}
      },
      "source": [
        "# sample series of five items\n",
        "np.random.seed(123456)\n",
        "s = pd.Series(np.random.randn(5))\n",
        "s"
      ],
      "execution_count": 0,
      "outputs": [
        {
          "output_type": "execute_result",
          "data": {
            "text/plain": [
              "0    0.469112\n",
              "1   -0.282863\n",
              "2   -1.509059\n",
              "3   -1.135632\n",
              "4    1.212112\n",
              "dtype: float64"
            ]
          },
          "metadata": {
            "tags": []
          },
          "execution_count": 74
        }
      ]
    },
    {
      "cell_type": "code",
      "metadata": {
        "id": "K_n9UV3hiWae",
        "colab_type": "code",
        "outputId": "e1b2b806-b202-4a66-f84f-4099ed72231d",
        "colab": {}
      },
      "source": [
        "# change the index\n",
        "s.index = ['a', 'b', 'c', 'd', 'e']\n",
        "s"
      ],
      "execution_count": 0,
      "outputs": [
        {
          "output_type": "execute_result",
          "data": {
            "text/plain": [
              "a    0.469112\n",
              "b   -0.282863\n",
              "c   -1.509059\n",
              "d   -1.135632\n",
              "e    1.212112\n",
              "dtype: float64"
            ]
          },
          "metadata": {
            "tags": []
          },
          "execution_count": 75
        }
      ]
    },
    {
      "cell_type": "code",
      "metadata": {
        "id": "Kah5l_RliWai",
        "colab_type": "code",
        "outputId": "8a2bca22-5ead-4026-a009-988f540d0c9d",
        "colab": {}
      },
      "source": [
        "# a series that we will reindex\n",
        "np.random.seed(123456)\n",
        "s1 = pd.Series(np.random.randn(4), ['a', 'b', 'c', 'd'])\n",
        "s1"
      ],
      "execution_count": 0,
      "outputs": [
        {
          "output_type": "execute_result",
          "data": {
            "text/plain": [
              "a    0.469112\n",
              "b   -0.282863\n",
              "c   -1.509059\n",
              "d   -1.135632\n",
              "dtype: float64"
            ]
          },
          "metadata": {
            "tags": []
          },
          "execution_count": 76
        }
      ]
    },
    {
      "cell_type": "code",
      "metadata": {
        "id": "CpiyapF2iWak",
        "colab_type": "code",
        "outputId": "dbfa1652-3f99-421e-9e04-732327d11c10",
        "colab": {}
      },
      "source": [
        "# reindex with different number of labels\n",
        "# results in dropped rows and/or NaN's\n",
        "s2 = s1.reindex(['a', 'c', 'g'])\n",
        "s2"
      ],
      "execution_count": 0,
      "outputs": [
        {
          "output_type": "execute_result",
          "data": {
            "text/plain": [
              "a    0.469112\n",
              "c   -1.509059\n",
              "g         NaN\n",
              "dtype: float64"
            ]
          },
          "metadata": {
            "tags": []
          },
          "execution_count": 77
        }
      ]
    },
    {
      "cell_type": "code",
      "metadata": {
        "id": "tUjg3QBEiWal",
        "colab_type": "code",
        "outputId": "b68b2ad8-10a1-42a7-d66d-8649a7a53e73",
        "colab": {}
      },
      "source": [
        "# different types for the same values of labels\n",
        "# causes big trouble\n",
        "s1 = pd.Series([0, 1, 2], index=[0, 1, 2])\n",
        "s2 = pd.Series([3, 4, 5], index=['0', '1', '2'])\n",
        "s1 + s2"
      ],
      "execution_count": 0,
      "outputs": [
        {
          "output_type": "execute_result",
          "data": {
            "text/plain": [
              "0   NaN\n",
              "1   NaN\n",
              "2   NaN\n",
              "0   NaN\n",
              "1   NaN\n",
              "2   NaN\n",
              "dtype: float64"
            ]
          },
          "metadata": {
            "tags": []
          },
          "execution_count": 78
        }
      ]
    },
    {
      "cell_type": "code",
      "metadata": {
        "id": "TT_1pyksiWan",
        "colab_type": "code",
        "outputId": "e9bd14c1-a4b9-4a7a-9ac2-52cb6b3c6728",
        "colab": {}
      },
      "source": [
        "# reindex by casting the label types\n",
        "# and we will get the desired result\n",
        "s2.index = s2.index.values.astype(int)\n",
        "s1 + s2"
      ],
      "execution_count": 0,
      "outputs": [
        {
          "output_type": "execute_result",
          "data": {
            "text/plain": [
              "0    3\n",
              "1    5\n",
              "2    7\n",
              "dtype: int64"
            ]
          },
          "metadata": {
            "tags": []
          },
          "execution_count": 79
        }
      ]
    },
    {
      "cell_type": "code",
      "metadata": {
        "id": "1WRVHHXTiWao",
        "colab_type": "code",
        "outputId": "9f988308-a07c-4e12-bde4-d290d3bfe1e8",
        "colab": {}
      },
      "source": [
        "# fill with 0 instead of NaN\n",
        "s2 = s.copy()\n",
        "s2.reindex(['a', 'f'], fill_value=0)"
      ],
      "execution_count": 0,
      "outputs": [
        {
          "output_type": "execute_result",
          "data": {
            "text/plain": [
              "a    0.469112\n",
              "f    0.000000\n",
              "dtype: float64"
            ]
          },
          "metadata": {
            "tags": []
          },
          "execution_count": 80
        }
      ]
    },
    {
      "cell_type": "code",
      "metadata": {
        "id": "aI2gJnAsiWaq",
        "colab_type": "code",
        "outputId": "0b1b1d5e-1c5e-4449-ca20-f45efeac94f8",
        "colab": {}
      },
      "source": [
        "# create example to demonstrate fills\n",
        "s3 = pd.Series(['red', 'green', 'blue'], index=[0, 3, 5])\n",
        "s3"
      ],
      "execution_count": 0,
      "outputs": [
        {
          "output_type": "execute_result",
          "data": {
            "text/plain": [
              "0      red\n",
              "3    green\n",
              "5     blue\n",
              "dtype: object"
            ]
          },
          "metadata": {
            "tags": []
          },
          "execution_count": 81
        }
      ]
    },
    {
      "cell_type": "code",
      "metadata": {
        "id": "ghlzOms3iWar",
        "colab_type": "code",
        "outputId": "73ff9029-acbe-44a7-d63a-0cd7bb2b940c",
        "colab": {}
      },
      "source": [
        "# forward fill example\n",
        "s3.reindex(np.arange(0,7), method='ffill')"
      ],
      "execution_count": 0,
      "outputs": [
        {
          "output_type": "execute_result",
          "data": {
            "text/plain": [
              "0      red\n",
              "1      red\n",
              "2      red\n",
              "3    green\n",
              "4    green\n",
              "5     blue\n",
              "6     blue\n",
              "dtype: object"
            ]
          },
          "metadata": {
            "tags": []
          },
          "execution_count": 82
        }
      ]
    },
    {
      "cell_type": "code",
      "metadata": {
        "id": "FCRbM1RniWat",
        "colab_type": "code",
        "outputId": "df9035f1-ad56-41ba-9803-b3dc5515f5c1",
        "colab": {}
      },
      "source": [
        "# backwards fill example\n",
        "s3.reindex(np.arange(0,7), method='bfill')"
      ],
      "execution_count": 0,
      "outputs": [
        {
          "output_type": "execute_result",
          "data": {
            "text/plain": [
              "0      red\n",
              "1    green\n",
              "2    green\n",
              "3    green\n",
              "4     blue\n",
              "5     blue\n",
              "6      NaN\n",
              "dtype: object"
            ]
          },
          "metadata": {
            "tags": []
          },
          "execution_count": 83
        }
      ]
    },
    {
      "cell_type": "markdown",
      "metadata": {
        "id": "jiZKNYdIiWau",
        "colab_type": "text"
      },
      "source": [
        "# Modifying a Series in-place"
      ]
    },
    {
      "cell_type": "code",
      "metadata": {
        "id": "DXffxYtviWav",
        "colab_type": "code",
        "outputId": "51532f98-9316-4ee6-f232-7e17a7a73c61",
        "colab": {}
      },
      "source": [
        "# generate a Series to play with\n",
        "np.random.seed(123456)\n",
        "s = pd.Series(np.random.randn(3), index=['a', 'b', 'c'])\n",
        "s"
      ],
      "execution_count": 0,
      "outputs": [
        {
          "output_type": "execute_result",
          "data": {
            "text/plain": [
              "a    0.469112\n",
              "b   -0.282863\n",
              "c   -1.509059\n",
              "dtype: float64"
            ]
          },
          "metadata": {
            "tags": []
          },
          "execution_count": 84
        }
      ]
    },
    {
      "cell_type": "code",
      "metadata": {
        "id": "Lp7ebB_5iWaw",
        "colab_type": "code",
        "outputId": "652aa5cf-81c8-422a-f98d-c848a8406cd9",
        "colab": {}
      },
      "source": [
        "# change a value in the Series\n",
        "# this is done in-place\n",
        "# a new Series is not returned that has a modified value\n",
        "s['d'] = 100\n",
        "s"
      ],
      "execution_count": 0,
      "outputs": [
        {
          "output_type": "execute_result",
          "data": {
            "text/plain": [
              "a      0.469112\n",
              "b     -0.282863\n",
              "c     -1.509059\n",
              "d    100.000000\n",
              "dtype: float64"
            ]
          },
          "metadata": {
            "tags": []
          },
          "execution_count": 85
        }
      ]
    },
    {
      "cell_type": "code",
      "metadata": {
        "id": "UKeDGNYfiWax",
        "colab_type": "code",
        "outputId": "027625f5-3c44-4758-9f0c-3e5b119881c9",
        "colab": {}
      },
      "source": [
        "# modify the value at 'd' in-place\n",
        "s['d'] = -100\n",
        "s"
      ],
      "execution_count": 0,
      "outputs": [
        {
          "output_type": "execute_result",
          "data": {
            "text/plain": [
              "a      0.469112\n",
              "b     -0.282863\n",
              "c     -1.509059\n",
              "d   -100.000000\n",
              "dtype: float64"
            ]
          },
          "metadata": {
            "tags": []
          },
          "execution_count": 86
        }
      ]
    },
    {
      "cell_type": "code",
      "metadata": {
        "id": "ncy6AMMgiWaz",
        "colab_type": "code",
        "outputId": "100b4484-c8c5-4686-a7ad-c65db7a16933",
        "colab": {}
      },
      "source": [
        "# remove a row / item\n",
        "del(s['a'])\n",
        "s"
      ],
      "execution_count": 0,
      "outputs": [
        {
          "output_type": "execute_result",
          "data": {
            "text/plain": [
              "b     -0.282863\n",
              "c     -1.509059\n",
              "d   -100.000000\n",
              "dtype: float64"
            ]
          },
          "metadata": {
            "tags": []
          },
          "execution_count": 87
        }
      ]
    },
    {
      "cell_type": "code",
      "metadata": {
        "id": "abEkaowfiWa1",
        "colab_type": "code",
        "outputId": "cd459c83-4bae-4c9b-be1c-542f70d5e405",
        "colab": {}
      },
      "source": [
        "copy = s.copy() # preserve s\n",
        "slice = copy[:2] # slice with first two rows\n",
        "slice"
      ],
      "execution_count": 0,
      "outputs": [
        {
          "output_type": "execute_result",
          "data": {
            "text/plain": [
              "b   -0.282863\n",
              "c   -1.509059\n",
              "dtype: float64"
            ]
          },
          "metadata": {
            "tags": []
          },
          "execution_count": 88
        }
      ]
    },
    {
      "cell_type": "code",
      "metadata": {
        "id": "UmbzYYcKiWa6",
        "colab_type": "code",
        "outputId": "d3540e3e-bff0-46c3-a3f2-fa84054b969b",
        "colab": {}
      },
      "source": [
        "# change item with label 10 to 1000\n",
        "slice['b'] = 0\n",
        "# and see it in the source\n",
        "copy"
      ],
      "execution_count": 0,
      "outputs": [
        {
          "output_type": "execute_result",
          "data": {
            "text/plain": [
              "b      0.000000\n",
              "c     -1.509059\n",
              "d   -100.000000\n",
              "dtype: float64"
            ]
          },
          "metadata": {
            "tags": []
          },
          "execution_count": 89
        }
      ]
    }
  ]
}