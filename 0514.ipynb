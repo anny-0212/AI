{
  "nbformat": 4,
  "nbformat_minor": 0,
  "metadata": {
    "colab": {
      "name": "0514.ipynb",
      "provenance": [],
      "authorship_tag": "ABX9TyPEBvSULVaA81CaSIuUGS8b",
      "include_colab_link": true
    },
    "kernelspec": {
      "name": "python3",
      "display_name": "Python 3"
    }
  },
  "cells": [
    {
      "cell_type": "markdown",
      "metadata": {
        "id": "view-in-github",
        "colab_type": "text"
      },
      "source": [
        "<a href=\"https://colab.research.google.com/github/anny-0212/AI/blob/master/0514.ipynb\" target=\"_parent\"><img src=\"https://colab.research.google.com/assets/colab-badge.svg\" alt=\"Open In Colab\"/></a>"
      ]
    },
    {
      "cell_type": "code",
      "metadata": {
        "id": "qSgqiRzC3Yqy",
        "colab_type": "code",
        "outputId": "b89a58f2-47d1-4c8f-87e7-7c9762c808bc",
        "colab": {
          "base_uri": "https://localhost:8080/",
          "height": 85
        }
      },
      "source": [
        "import tensorflow as tf\n",
        "\n",
        "# 產生一個常數\n",
        "c = tf.constant(1)\n",
        "# 產生一個變數\n",
        "v = tf.Variable(1)\n",
        "print(c)\n",
        "print(v)\n",
        "\n",
        "import tensorflow as tf\n",
        "x = tf.constant(4)\n",
        "print(x)  # 顯示Tensor 常數資訊，Shape=()表示標量，dtype=int32 表示整數\n",
        "print(\"{} 階Tensor\".format(x.ndim))  # 顯示Tensor 的維度\n",
        "# scalar(常數就是純量[標量])"
      ],
      "execution_count": 0,
      "outputs": [
        {
          "output_type": "stream",
          "text": [
            "tf.Tensor(1, shape=(), dtype=int32)\n",
            "<tf.Variable 'Variable:0' shape=() dtype=int32, numpy=1>\n",
            "tf.Tensor(4, shape=(), dtype=int32)\n",
            "0 階Tensor\n"
          ],
          "name": "stdout"
        }
      ]
    },
    {
      "cell_type": "code",
      "metadata": {
        "id": "mD__v1bR5JUr",
        "colab_type": "code",
        "outputId": "5dac0c2c-3114-4820-e85a-f76f1f0d6c84",
        "colab": {
          "base_uri": "https://localhost:8080/",
          "height": 51
        }
      },
      "source": [
        "x = tf.constant([1, 2, 3, 4, 5, 6]) \n",
        "print(\"{}階Tensor \".format(x.ndim))    # 顯示Tensor的維度\n",
        "\n",
        "x = tf.constant([[1, 2, 3], [4, 5, 6]])\n",
        "print(\"{}階Tensor \".format(x.ndim))    # 顯示Tensor的維度"
      ],
      "execution_count": 0,
      "outputs": [
        {
          "output_type": "stream",
          "text": [
            "1階Tensor \n",
            "2階Tensor \n"
          ],
          "name": "stdout"
        }
      ]
    },
    {
      "cell_type": "code",
      "metadata": {
        "id": "pXmq-jI5D0xX",
        "colab_type": "code",
        "colab": {}
      },
      "source": [
        "def nn_model():\n",
        "    (x_train, y_train), _ = mnist.load_data()\n",
        "    # 归一化\n",
        "    x_train = x_train.reshape(x_train.shape[0], -1) / 255.\n",
        "    # one-hot\n",
        "    y_train = np_utils.to_categorical(y=y_train, num_classes=10)\n",
        "    # constant(value=1.)自定义常数，constant(value=1.)===one()\n",
        "    # 创建模型:输入784个神经元，输出10个神经元\n",
        "    model = Sequential([\n",
        "        Dense(units=200, input_dim=784, bias_initializer=constant(value=1.), activation=tanh),\n",
        "        Dense(units=100, bias_initializer=one(), activation=tanh),\n",
        "        Dense(units=10, bias_initializer=one(), activation=softmax),\n",
        "    ])\n",
        "\n",
        "    opt = SGD(lr=0.2, clipnorm=1.)  # 优化器\n",
        "    model.compile(optimizer=opt, loss=categorical_crossentropy, metrics=['acc', 'mae'])  # 编译\n",
        "    model.fit(x_train, y_train, batch_size=64, epochs=20, callbacks=[RemoteMonitor()])\n",
        "    model_save(model, './model.h5') \n"
      ],
      "execution_count": 0,
      "outputs": []
    }
  ]
}